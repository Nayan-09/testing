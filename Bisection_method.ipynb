{
 "cells": [
  {
   "cell_type": "code",
   "execution_count": 1,
   "metadata": {},
   "outputs": [
    {
     "name": "stdout",
     "output_type": "stream",
     "text": [
      "0 >> [a,b]= { 1  :  2 }   Mid =  1.5\n",
      "value is  -0.125000000000000\n",
      "1 >> [a,b]= { 1.5  :  2 }   Mid =  1.75\n",
      "value is  1.10937500000000\n",
      "2 >> [a,b]= { 1.5  :  1.75 }   Mid =  1.625\n",
      "value is  0.416015625000000\n",
      "3 >> [a,b]= { 1.5  :  1.625 }   Mid =  1.5625\n",
      "value is  0.127197265625000\n",
      "4 >> [a,b]= { 1.5  :  1.5625 }   Mid =  1.53125\n",
      "value is  -0.00338745117187500\n",
      "5 >> [a,b]= { 1.53125  :  1.5625 }   Mid =  1.546875\n",
      "value is  0.0607719421386719\n",
      "6 >> [a,b]= { 1.53125  :  1.546875 }   Mid =  1.5390625\n",
      "value is  0.0284104347229004\n",
      "7 >> [a,b]= { 1.53125  :  1.5390625 }   Mid =  1.53515625\n",
      "value is  0.0124412178993225\n",
      "8 >> [a,b]= { 1.53125  :  1.53515625 }   Mid =  1.533203125\n",
      "value is  0.00450933724641800\n",
      "9 >> [a,b]= { 1.53125  :  1.533203125 }   Mid =  1.5322265625\n",
      "value is  0.000556559301912785\n",
      "10 >> [a,b]= { 1.53125  :  1.5322265625 }   Mid =  1.53173828125\n",
      "value is  -0.00141654151957482\n",
      "11 >> [a,b]= { 1.53173828125  :  1.5322265625 }   Mid =  1.531982421875\n",
      "value is  -0.000430265048635192\n",
      "12 >> [a,b]= { 1.531982421875  :  1.5322265625 }   Mid =  1.5321044921875\n",
      "value is  6.30786362307845e-5\n",
      "13 >> [a,b]= { 1.531982421875  :  1.5321044921875 }   Mid =  1.53204345703125\n",
      "value is  -0.000183610328122086\n",
      "14 >> [a,b]= { 1.53204345703125  :  1.5321044921875 }   Mid =  1.532073974609375\n",
      "value is  -6.02701265108863e-5\n"
     ]
    }
   ],
   "source": [
    "from sympy import *\n",
    "\n",
    "x=symbols('x')\n",
    "\n",
    "#put your algebaric expression here\n",
    "exp=x**3-3*x+1 \n",
    "#exp=x*log(x)-1.2\n",
    "\n",
    "\n",
    "\n",
    "\n",
    "# Enter the inital value of interval\n",
    "a=1\n",
    "b=2\n",
    "\n",
    "for i in range(15):\n",
    "   \n",
    "    mid=(a+b)/2\n",
    "    print(i,\">>\",\"[a,b]=\",\"{\",a,\" : \",b,\"}\",\"  Mid = \",mid);\n",
    "    \n",
    "    value=exp.subs(x,mid)\n",
    "\n",
    "    if value<0: \n",
    "        a=mid \n",
    "    if value >=0:\n",
    "        b=mid\n",
    "   \n",
    "    print(\"value is \",value)\n",
    "\n"
   ]
  },
  {
   "cell_type": "code",
   "execution_count": null,
   "metadata": {},
   "outputs": [],
   "source": []
  }
 ],
 "metadata": {
  "kernelspec": {
   "display_name": "base",
   "language": "python",
   "name": "python3"
  },
  "language_info": {
   "codemirror_mode": {
    "name": "ipython",
    "version": 3
   },
   "file_extension": ".py",
   "mimetype": "text/x-python",
   "name": "python",
   "nbconvert_exporter": "python",
   "pygments_lexer": "ipython3",
   "version": "3.9.12"
  },
  "orig_nbformat": 4
 },
 "nbformat": 4,
 "nbformat_minor": 2
}
